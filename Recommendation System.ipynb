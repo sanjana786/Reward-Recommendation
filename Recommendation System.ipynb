{
 "cells": [
  {
   "cell_type": "code",
   "execution_count": 3,
   "id": "be6c3cdd",
   "metadata": {},
   "outputs": [
    {
     "name": "stdout",
     "output_type": "stream",
     "text": [
      "[10, 1, 2, 4, 5]\n"
     ]
    }
   ],
   "source": [
    "import pandas as pd\n",
    "from sklearn.feature_extraction.text import TfidfVectorizer #convert a collection of text documents, into a numerical representation\n",
    "#based on term frequency, inverse document frequency\n",
    "from sklearn.metrics.pairwise import linear_kernel  #computes the linear kernel between two arrays\n",
    "#it is used to calculate the cosine similarity between reward descriptions.\n",
    "\n",
    "# Load the dataset\n",
    "data = pd.read_csv('rewards.csv')  \n",
    "\n",
    "if data.empty:\n",
    "    print(\"Error: The reward dataset is empty.\")\n",
    "    exit()\n",
    "\n",
    "# Create TF-IDF matrix\n",
    "tfidf = TfidfVectorizer(stop_words='english')  #raw document into matrix\n",
    "tfidf_matrix = tfidf.fit_transform(data['description'])\n",
    "\n",
    "# Compute cosine similarity\n",
    "cosine_sim = linear_kernel(tfidf_matrix, tfidf_matrix)\n",
    "\n",
    "# Function to get recommended rewards\n",
    "def get_recommendations(reward_id, cosine_similarities):\n",
    "    try:\n",
    "        # Get the index of the reward\n",
    "        idx = data[data['reward_id'] == reward_id].index[0]\n",
    "    except IndexError:\n",
    "        print(\"Error: Reward ID not found in the dataset.\")\n",
    "        exit()\n",
    "    \n",
    "    # Get the pairwise similarities\n",
    "    sim_scores = list(enumerate(cosine_similarities[idx]))\n",
    "    \n",
    "    # Sort the rewards based on similarity scores\n",
    "    sim_scores = sorted(sim_scores, key=lambda x: x[1], reverse=True)\n",
    "    \n",
    "    # Get the top 5 similar rewards (excluding itself)\n",
    "    top_rewards = sim_scores[1:6]\n",
    "    \n",
    "    # Get the reward IDs of the top recommendations\n",
    "    recommended_rewards = [data.iloc[i[0]]['reward_id'] for i in top_rewards]\n",
    "    \n",
    "    return recommended_rewards\n",
    "\n",
    "# Example usage\n",
    "reward_id = 3  # ID of the reward for which you want recommendations\n",
    "recommendations = get_recommendations(reward_id, cosine_sim)\n",
    "print(recommendations)\n"
   ]
  },
  {
   "cell_type": "code",
   "execution_count": null,
   "id": "706f4103",
   "metadata": {},
   "outputs": [],
   "source": []
  }
 ],
 "metadata": {
  "kernelspec": {
   "display_name": "Python 3 (ipykernel)",
   "language": "python",
   "name": "python3"
  },
  "language_info": {
   "codemirror_mode": {
    "name": "ipython",
    "version": 3
   },
   "file_extension": ".py",
   "mimetype": "text/x-python",
   "name": "python",
   "nbconvert_exporter": "python",
   "pygments_lexer": "ipython3",
   "version": "3.9.12"
  }
 },
 "nbformat": 4,
 "nbformat_minor": 5
}
