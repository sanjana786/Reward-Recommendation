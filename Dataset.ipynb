{
 "cells": [
  {
   "cell_type": "code",
   "execution_count": 2,
   "id": "79911817",
   "metadata": {},
   "outputs": [],
   "source": [
    "import pandas as pd\n",
    "\n",
    "# Create the reward dataset\n",
    "data = pd.DataFrame({\n",
    "    'reward_id': [1, 2, 3, 4, 5, 6, 7, 8, 9, 10],\n",
    "    'name': ['Free Coffee', '50% Off on Clothing', 'Bookstore Gift Card', 'Movie Ticket', 'Restaurant Voucher',\n",
    "             'Spa and Wellness Package', 'Travel Discount', 'Gaming Console', 'Online Shopping Voucher', 'Gym Membership'],\n",
    "    'description': ['Enjoy a complimentary cup of coffee at our café.', 'Get 50% off on clothing purchases at our store.',\n",
    "                    'Use this gift card to buy books at our partnered bookstore.', 'Enjoy a free movie ticket at any cinema.',\n",
    "                    'Dine at a partner restaurant with this voucher for a discounted meal.',\n",
    "                    'Indulge in a relaxing spa treatment with this wellness package.',\n",
    "                    'Get a discount on your next travel booking with this offer.',\n",
    "                    'Upgrade your gaming experience with a brand new gaming console.',\n",
    "                    'Shop online and avail a discount with this shopping voucher.',\n",
    "                    'Stay fit and healthy with a membership to our partnered gym.'],\n",
    "    'category': ['Food & Drink', 'Fashion', 'Books', 'Entertainment', 'Food & Dining',\n",
    "                 'Wellness', 'Travel', 'Electronics', 'Shopping', 'Fitness']\n",
    "})\n",
    "\n",
    "# Save the dataset to a CSV file\n",
    "data.to_csv('rewards.csv', index=False)\n"
   ]
  },
  {
   "cell_type": "code",
   "execution_count": null,
   "id": "9bf84ae8",
   "metadata": {},
   "outputs": [],
   "source": []
  }
 ],
 "metadata": {
  "kernelspec": {
   "display_name": "Python 3 (ipykernel)",
   "language": "python",
   "name": "python3"
  },
  "language_info": {
   "codemirror_mode": {
    "name": "ipython",
    "version": 3
   },
   "file_extension": ".py",
   "mimetype": "text/x-python",
   "name": "python",
   "nbconvert_exporter": "python",
   "pygments_lexer": "ipython3",
   "version": "3.9.12"
  }
 },
 "nbformat": 4,
 "nbformat_minor": 5
}
